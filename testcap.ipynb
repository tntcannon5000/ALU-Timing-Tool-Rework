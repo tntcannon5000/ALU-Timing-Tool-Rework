{
 "cells": [
  {
   "cell_type": "code",
   "execution_count": 2,
   "metadata": {},
   "outputs": [],
   "source": [
    "import dxcam\n",
    "from src.utils.windowtools import fuzzy_window_search, calculate_aspect_ratio, check_aspect_ratio_validity\n",
    "import matplotlib.pyplot as plt\n",
    "import pytesseract\n",
    "pytesseract.pytesseract.tesseract_cmd = r'C:\\Program Files\\Tesseract-OCR\\tesseract.exe'\n",
    "import numpy as np\n",
    "import cv2\n",
    "\n",
    "camera = dxcam.create()\n"
   ]
  },
  {
   "cell_type": "code",
   "execution_count": 5,
   "metadata": {},
   "outputs": [
    {
     "name": "stdout",
     "output_type": "stream",
     "text": [
      "[(1075, 148, 1746, 731)]\n",
      "1\n",
      "The aspect ratio is reasonable.\n"
     ]
    }
   ],
   "source": [
    "coords = fuzzy_window_search(\"asphalt\")\n",
    "\n",
    "aspect_ratio = calculate_aspect_ratio(coords)\n",
    "\n",
    "check_aspect_ratio_validity(aspect_ratio)"
   ]
  },
  {
   "cell_type": "code",
   "execution_count": null,
   "metadata": {},
   "outputs": [
    {
     "ename": "NameError",
     "evalue": "name 'camera' is not defined",
     "output_type": "error",
     "traceback": [
      "\u001b[1;31m---------------------------------------------------------------------------\u001b[0m",
      "\u001b[1;31mNameError\u001b[0m                                 Traceback (most recent call last)",
      "Cell \u001b[1;32mIn[1], line 2\u001b[0m\n\u001b[0;32m      1\u001b[0m \u001b[38;5;66;03m# Grab a frame from the camera\u001b[39;00m\n\u001b[1;32m----> 2\u001b[0m \u001b[43mcamera\u001b[49m\u001b[38;5;241m.\u001b[39mstart(region\u001b[38;5;241m=\u001b[39mcoords)\n\u001b[0;32m      4\u001b[0m \u001b[38;5;66;03m# Display the frame\u001b[39;00m\n\u001b[0;32m      5\u001b[0m plt\u001b[38;5;241m.\u001b[39mimshow(camera\u001b[38;5;241m.\u001b[39mget_latest_frame())\n",
      "\u001b[1;31mNameError\u001b[0m: name 'camera' is not defined"
     ]
    }
   ],
   "source": [
    "# Grab a frame from the camera\n",
    "window = camera.grab(region=coords)\n",
    "\n",
    "# Display the frame\n",
    "plt.imshow(window)\n",
    "plt.axis('off')  # Hide the axis\n",
    "plt.show()"
   ]
  },
  {
   "cell_type": "code",
   "execution_count": 41,
   "metadata": {},
   "outputs": [
    {
     "name": "stdout",
     "output_type": "stream",
     "text": [
      "Extracted time: 0003464\n"
     ]
    }
   ],
   "source": [
    "# First crop to top-right region\n",
    "height, width, _ = window.shape\n",
    "top_right_region = window[0:int(height*0.28), int(width*0.6):width]\n",
    "\n",
    "# Target BGR values - easy to adjust\n",
    "target_B = 228\n",
    "target_G = 0\n",
    "target_R = 0\n",
    "tolerance = 5\n",
    "\n",
    "# Create mask looking for the target color with tolerance\n",
    "mask = np.zeros(top_right_region.shape[:2], dtype=np.uint8)\n",
    "mask[\n",
    "    (top_right_region[:,:,0] >= max(0, target_B - tolerance)) & \n",
    "    (top_right_region[:,:,0] <= min(255, target_B + tolerance)) &  # Blue channel\n",
    "    (top_right_region[:,:,1] >= max(0, target_G - tolerance)) & \n",
    "    (top_right_region[:,:,1] <= min(255, target_G + tolerance)) &  # Green channel\n",
    "    (top_right_region[:,:,2] >= max(0, target_R - tolerance)) & \n",
    "    (top_right_region[:,:,2] <= min(255, target_R + tolerance))  # Red channel\n",
    "] = 255\n",
    "\n",
    "# Find contours in the mask\n",
    "contours, _ = cv2.findContours(mask, cv2.RETR_EXTERNAL, cv2.CHAIN_APPROX_SIMPLE)\n",
    "\n",
    "if contours:\n",
    "    # Find the largest contour\n",
    "    largest_contour = max(contours, key=cv2.contourArea)\n",
    "    x, y, w, h = cv2.boundingRect(largest_contour)\n",
    "    \n",
    "    # Extract the region within the box\n",
    "    box_region = top_right_region[y:y+h, x:x+w]\n",
    "    \n",
    "    # Convert to grayscale and extract text\n",
    "    gray_region = cv2.cvtColor(box_region, cv2.COLOR_BGR2GRAY)\n",
    "    text = pytesseract.image_to_string(gray_region, config='--psm 6')\n",
    "    \n",
    "    # Extract numbers while preserving time format\n",
    "    numbers = ''.join(filter(str.isdigit, text))\n",
    "    numbers = numbers[-7:] if len(numbers) >= 7 else numbers\n",
    "    print(\"Extracted time:\", numbers)\n",
    "    #print(f\"Number of contours found: {len(contours)}\")\n",
    "else:\n",
    "    print(\"No contours found\")"
   ]
  }
 ],
 "metadata": {
  "kernelspec": {
   "display_name": ".venv",
   "language": "python",
   "name": "python3"
  },
  "language_info": {
   "codemirror_mode": {
    "name": "ipython",
    "version": 3
   },
   "file_extension": ".py",
   "mimetype": "text/x-python",
   "name": "python",
   "nbconvert_exporter": "python",
   "pygments_lexer": "ipython3",
   "version": "3.11.9"
  }
 },
 "nbformat": 4,
 "nbformat_minor": 2
}
