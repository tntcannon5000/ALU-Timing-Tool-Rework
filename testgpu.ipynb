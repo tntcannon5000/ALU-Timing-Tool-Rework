{
 "cells": [
  {
   "cell_type": "code",
   "execution_count": 1,
   "id": "995d4046",
   "metadata": {},
   "outputs": [
    {
     "name": "stdout",
     "output_type": "stream",
     "text": [
      "True\n"
     ]
    }
   ],
   "source": [
    "from easyocr import Reader\n",
    "import torch\n",
    "from dotenv import load_dotenv\n",
    "print(torch.xpu.is_available())"
   ]
  },
  {
   "cell_type": "code",
   "execution_count": 2,
   "id": "09dc3caf",
   "metadata": {},
   "outputs": [
    {
     "name": "stderr",
     "output_type": "stream",
     "text": [
      "Neither CUDA nor MPS are available - defaulting to CPU. Note: This module is much faster with a GPU.\n"
     ]
    },
    {
     "name": "stdout",
     "output_type": "stream",
     "text": [
      "Intel XPU is available!\n",
      "Using device: Intel(R) Arc(TM) Graphics\n"
     ]
    }
   ],
   "source": [
    "if torch.xpu.is_available():\n",
    "    print(\"Intel XPU is available!\")\n",
    "    device_str = 'xpu'\n",
    "    # Optional: print XPU device name\n",
    "    print(f\"Using device: {torch.xpu.get_device_name(0)}\")\n",
    "else:\n",
    "    print(\"Intel XPU not available, falling back to CPU.\")\n",
    "    device_str = 'cpu'\n",
    "\n",
    "reader = Reader(['en'], gpu=True)\n",
    "\n",
    "reader.device = torch.device(device_str)\n"
   ]
  },
  {
   "cell_type": "code",
   "execution_count": 3,
   "id": "8374cae4",
   "metadata": {},
   "outputs": [
    {
     "name": "stdout",
     "output_type": "stream",
     "text": [
      "Attempting to move EasyOCR models to xpu...\n",
      "Moving detector model to XPU...\n",
      "Detector model moved.\n",
      "Moving recognizer model to XPU...\n",
      "Recognizer model moved.\n",
      "EasyOCR models and internal device set to: xpu\n",
      "Successfully configured EasyOCR for XPU.\n"
     ]
    }
   ],
   "source": [
    "# 3. If XPU is available, manually move models and set the device for EasyOCR\n",
    "if device_str == 'xpu':\n",
    "    print(f\"Attempting to move EasyOCR models to {device_str}...\")\n",
    "    try:\n",
    "        # Set the device attribute that EasyOCR uses internally\n",
    "        reader.device = torch.device(device_str) # Use torch.device object\n",
    "\n",
    "        # Move the detector model to XPU\n",
    "        if hasattr(reader, 'detector') and reader.detector is not None:\n",
    "            print(\"Moving detector model to XPU...\")\n",
    "            reader.detector = reader.detector.to(reader.device)\n",
    "            print(\"Detector model moved.\")\n",
    "        else:\n",
    "            print(\"Reader does not have a 'detector' attribute or it's None.\")\n",
    "\n",
    "\n",
    "        # Move the recognizer model to XPU\n",
    "        # The recognizer model itself is reader.recognizer\n",
    "        # Its sub-modules might also need explicit moving if .to(device) doesn't recurse fully\n",
    "        # for all custom structures, but usually top-level .to() is enough for nn.Module.\n",
    "        if hasattr(reader, 'recognizer') and reader.recognizer is not None:\n",
    "            print(\"Moving recognizer model to XPU...\")\n",
    "            reader.recognizer = reader.recognizer.to(reader.device)\n",
    "\n",
    "            # EasyOCR's 'standard' recognizer has sub-modules like 'character_extractor',\n",
    "            # 'feature_extraction', 'SequenceModeling', 'Prediction'.\n",
    "            # A single .to(device) on the parent nn.Module (reader.recognizer)\n",
    "            # should move all its parameters and buffers.\n",
    "            # Let's confirm if this is sufficient or if we need to move submodules explicitly.\n",
    "            # For most PyTorch nn.Modules, parent.to(device) is enough.\n",
    "\n",
    "            print(\"Recognizer model moved.\")\n",
    "        else:\n",
    "            print(\"Reader does not have a 'recognizer' attribute or it's None.\")\n",
    "\n",
    "        print(f\"EasyOCR models and internal device set to: {reader.device}\")\n",
    "        print(\"Successfully configured EasyOCR for XPU.\")\n",
    "\n",
    "    except Exception as e:\n",
    "        print(f\"Error moving models to XPU: {e}\")\n",
    "        print(\"Falling back to CPU for EasyOCR.\")\n",
    "        # Re-initialize on CPU or ensure it's on CPU\n",
    "        reader = Reader(['en'], gpu=False, verbose=True)\n",
    "        device_str = 'cpu'\n",
    "else:\n",
    "    print(\"EasyOCR will run on CPU.\")"
   ]
  },
  {
   "cell_type": "code",
   "execution_count": 4,
   "id": "c0501373",
   "metadata": {},
   "outputs": [
    {
     "name": "stdout",
     "output_type": "stream",
     "text": [
      "OCR Result: [([[np.int32(46), np.int32(98)], [np.int32(584), np.int32(98)], [np.int32(584), np.int32(218)], [np.int32(46), np.int32(218)]], 'GRAUSCALE', np.float64(0.7877132613204044)), ([[np.int32(52), np.int32(214)], [np.int32(244), np.int32(214)], [np.int32(244), np.int32(246)], [np.int32(52), np.int32(246)]], 'Fully Editable PSD', np.float64(0.9652309234689471)), ([[np.int32(308), np.int32(214)], [np.int32(574), np.int32(214)], [np.int32(574), np.int32(246)], [np.int32(308), np.int32(246)]], 'Made with Smart Objects', np.float64(0.9476364351749266))]\n"
     ]
    }
   ],
   "source": [
    "while True:\n",
    "    try:\n",
    "        # Example usage: read text from an image file\n",
    "        result = reader.readtext('test_image.jpg')\n",
    "        print(\"OCR Result:\", result)\n",
    "    except Exception as e:\n",
    "        print(f\"Error during OCR processing: {e}\")\n",
    "    \n",
    "    # Break the loop after one iteration for demonstration purposes\n",
    "    break"
   ]
  }
 ],
 "metadata": {
  "kernelspec": {
   "display_name": "alutimer",
   "language": "python",
   "name": "python3"
  },
  "language_info": {
   "codemirror_mode": {
    "name": "ipython",
    "version": 3
   },
   "file_extension": ".py",
   "mimetype": "text/x-python",
   "name": "python",
   "nbconvert_exporter": "python",
   "pygments_lexer": "ipython3",
   "version": "3.12.9"
  }
 },
 "nbformat": 4,
 "nbformat_minor": 5
}
