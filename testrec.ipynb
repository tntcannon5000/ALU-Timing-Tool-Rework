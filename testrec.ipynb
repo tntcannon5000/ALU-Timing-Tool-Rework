{
 "cells": [
  {
   "cell_type": "code",
   "execution_count": null,
   "metadata": {},
   "outputs": [],
   "source": [
    "import dxcam\n",
    "from src.utils.windowtools import fuzzy_window_search, calculate_aspect_ratio, check_aspect_ratio_validity\n",
    "import matplotlib.pyplot as plt\n",
    "import pytesseract\n",
    "pytesseract.pytesseract.tesseract_cmd = r'C:\\Program Files\\Tesseract-OCR\\tesseract.exe'\n",
    "import numpy as np\n",
    "import cv2\n",
    "import tkinter as tk\n",
    "import threading\n",
    "import time as systime"
   ]
  },
  {
   "cell_type": "code",
   "execution_count": null,
   "metadata": {},
   "outputs": [],
   "source": [
    "# Global vars\n",
    "camera = dxcam.create(device_idx=0)\n",
    "capturing = True\n",
    "time = 0"
   ]
  },
  {
   "cell_type": "code",
   "execution_count": null,
   "metadata": {},
   "outputs": [],
   "source": [
    "coords = fuzzy_window_search(\"asphalt\")\n",
    "\n",
    "aspect_ratio = calculate_aspect_ratio(coords)\n",
    "\n",
    "check_aspect_ratio_validity(aspect_ratio)\n",
    "print(coords)"
   ]
  },
  {
   "cell_type": "code",
   "execution_count": null,
   "metadata": {},
   "outputs": [],
   "source": [
    "# Grab a frame from the camera\n",
    "window = camera.grab()\n",
    "\n",
    "# Extract coordinates from the coords variable\n",
    "x1, y1, x2, y2 = coords\n",
    "\n",
    "capture_coords = (x1, y1, x2, int(y1 + (y2 - y1) / 3.4))\n",
    "\n",
    "camera.start(region=capture_coords, target_fps=90)"
   ]
  },
  {
   "cell_type": "code",
   "execution_count": null,
   "metadata": {},
   "outputs": [],
   "source": []
  },
  {
   "cell_type": "code",
   "execution_count": null,
   "metadata": {},
   "outputs": [],
   "source": [
    "def start_capturing():\n",
    "    global capturing\n",
    "    capturing = True\n",
    "    print(\"Capturing started\")\n",
    "\n",
    "def stop_capturing():\n",
    "    global capturing\n",
    "    capturing = False\n",
    "    print(\"Capturing stopped\")\n",
    "\n",
    "def update_time_label():\n",
    "    global time\n",
    "    while True:\n",
    "        time_label.config(text=time)\n",
    "        time_label.update()\n",
    "        time.sleep(0.1)\n",
    "\n",
    "def create_ui():\n",
    "    root = tk.Tk()\n",
    "    root.title(\"Capture Control\")\n",
    "\n",
    "    start_button = tk.Button(root, text=\"Start\", command=start_capturing, bg=\"green\", fg=\"white\", font=(\"Helvetica\", 16))\n",
    "    start_button.pack(pady=10)\n",
    "\n",
    "    stop_button = tk.Button(root, text=\"Stop\", command=stop_capturing, bg=\"red\", fg=\"white\", font=(\"Helvetica\", 16))\n",
    "    stop_button.pack(pady=10)\n",
    "\n",
    "    global time_label\n",
    "    time_label = tk.Label(root, text=f\"Time: {time}\", font=(\"Helvetica\", 14))\n",
    "    time_label.pack(pady=10)\n",
    "\n",
    "    threading.Thread(target=update_time_label, daemon=True).start()\n",
    "\n",
    "    root.mainloop()\n",
    "\n",
    "# ui_thread = threading.Thread(target=create_ui)\n",
    "# ui_thread.start()"
   ]
  },
  {
   "cell_type": "code",
   "execution_count": null,
   "metadata": {},
   "outputs": [],
   "source": [
    "# Target BGR values - easy to adjust\n",
    "target_B = 228\n",
    "target_G = 0\n",
    "target_R = 0\n",
    "tolerance = 5\n",
    "\n",
    "while True:\n",
    "    if capturing:\n",
    "        window = camera.get_latest_frame()\n",
    "        # First crop to top-left region\n",
    "        height, width, _ = window.shape\n",
    "        top_right_region = window[0:height, 0:int(width*0.25)]\n",
    "        \n",
    "        plt.imshow(top_right_region)\n",
    "        plt.axis('off')  # Hide the axis\n",
    "        plt.show()\n",
    "        systime.sleep(1)\n",
    "\n",
    "        # Create mask looking for the target color with tolerance\n",
    "        mask = np.zeros(top_right_region.shape[:2], dtype=np.uint8)\n",
    "        mask[\n",
    "            (top_right_region[:,:,0] >= max(0, target_B - tolerance)) & \n",
    "            (top_right_region[:,:,0] <= min(255, target_B + tolerance)) &  # Blue channel\n",
    "            (top_right_region[:,:,1] >= max(0, target_G - tolerance)) & \n",
    "            (top_right_region[:,:,1] <= min(255, target_G + tolerance)) &  # Green channel\n",
    "            (top_right_region[:,:,2] >= max(0, target_R - tolerance)) & \n",
    "            (top_right_region[:,:,2] <= min(255, target_R + tolerance))  # Red channel\n",
    "        ] = 255\n",
    "\n",
    "        # Find contours in the mask\n",
    "        contours, _ = cv2.findContours(mask, cv2.RETR_EXTERNAL, cv2.CHAIN_APPROX_SIMPLE)\n",
    "\n",
    "        if contours:\n",
    "            # Find the largest contour\n",
    "            largest_contour = max(contours, key=cv2.contourArea)\n",
    "            x, y, w, h = cv2.boundingRect(largest_contour)\n",
    "            \n",
    "            # Extract the region within the box\n",
    "            box_region = top_right_region[y:y+h, x:x+w]\n",
    "            \n",
    "            # Convert to grayscale and extract text\n",
    "            gray_region = cv2.cvtColor(box_region, cv2.COLOR_BGR2GRAY)\n",
    "            text = pytesseract.image_to_string(gray_region, config='--psm 6')\n",
    "            \n",
    "            # Extract numbers while preserving time format\n",
    "            numbers = ''.join(filter(str.isdigit, text))\n",
    "            numbers = numbers[-7:] if len(numbers) >= 7 else numbers\n",
    "            print(\"Extracted time:\", numbers)\n",
    "            #print(f\"Number of contours found: {len(contours)}\")\n",
    "        else:\n",
    "            print(\"No contours found\")\n",
    "    systime.sleep(0.2)"
   ]
  }
 ],
 "metadata": {
  "kernelspec": {
   "display_name": ".venv",
   "language": "python",
   "name": "python3"
  },
  "language_info": {
   "codemirror_mode": {
    "name": "ipython",
    "version": 3
   },
   "file_extension": ".py",
   "mimetype": "text/x-python",
   "name": "python",
   "nbconvert_exporter": "python",
   "pygments_lexer": "ipython3",
   "version": "3.11.9"
  }
 },
 "nbformat": 4,
 "nbformat_minor": 2
}
